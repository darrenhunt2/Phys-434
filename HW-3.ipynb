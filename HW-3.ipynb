{
 "cells": [
  {
   "cell_type": "markdown",
   "metadata": {},
   "source": [
    "# Darren Hunt\n",
    "\n",
    "PHYS 434AA\n",
    "\n",
    "10-22-2020\n",
    "\n",
    "HW 3"
   ]
  },
  {
   "cell_type": "code",
   "execution_count": 1,
   "metadata": {},
   "outputs": [],
   "source": [
    "import pandas as pd"
   ]
  },
  {
   "cell_type": "markdown",
   "metadata": {},
   "source": [
    "# Truth tables"
   ]
  },
  {
   "cell_type": "code",
   "execution_count": 2,
   "metadata": {},
   "outputs": [
    {
     "data": {
      "text/html": [
       "<div>\n",
       "<style scoped>\n",
       "    .dataframe tbody tr th:only-of-type {\n",
       "        vertical-align: middle;\n",
       "    }\n",
       "\n",
       "    .dataframe tbody tr th {\n",
       "        vertical-align: top;\n",
       "    }\n",
       "\n",
       "    .dataframe thead th {\n",
       "        text-align: right;\n",
       "    }\n",
       "</style>\n",
       "<table border=\"1\" class=\"dataframe\">\n",
       "  <thead>\n",
       "    <tr style=\"text-align: right;\">\n",
       "      <th></th>\n",
       "      <th>True Bird</th>\n",
       "      <th>True Person</th>\n",
       "    </tr>\n",
       "  </thead>\n",
       "  <tbody>\n",
       "    <tr>\n",
       "      <th>NN Bird</th>\n",
       "      <td>45</td>\n",
       "      <td>5</td>\n",
       "    </tr>\n",
       "    <tr>\n",
       "      <th>NN Person</th>\n",
       "      <td>3</td>\n",
       "      <td>47</td>\n",
       "    </tr>\n",
       "  </tbody>\n",
       "</table>\n",
       "</div>"
      ],
      "text/plain": [
       "           True Bird  True Person\n",
       "NN Bird           45            5\n",
       "NN Person          3           47"
      ]
     },
     "execution_count": 2,
     "metadata": {},
     "output_type": "execute_result"
    }
   ],
   "source": [
    "# truth tables\n",
    "truth1 = [[45,5],[3,47]]\n",
    "ttable1 = pd.DataFrame(truth1, columns=['True Bird', 'True Person'], index=['NN Bird', 'NN Person'])\n",
    "ttable1"
   ]
  },
  {
   "cell_type": "code",
   "execution_count": 3,
   "metadata": {},
   "outputs": [
    {
     "data": {
      "text/html": [
       "<div>\n",
       "<style scoped>\n",
       "    .dataframe tbody tr th:only-of-type {\n",
       "        vertical-align: middle;\n",
       "    }\n",
       "\n",
       "    .dataframe tbody tr th {\n",
       "        vertical-align: top;\n",
       "    }\n",
       "\n",
       "    .dataframe thead th {\n",
       "        text-align: right;\n",
       "    }\n",
       "</style>\n",
       "<table border=\"1\" class=\"dataframe\">\n",
       "  <thead>\n",
       "    <tr style=\"text-align: right;\">\n",
       "      <th></th>\n",
       "      <th>True Bird</th>\n",
       "      <th>True Person</th>\n",
       "    </tr>\n",
       "  </thead>\n",
       "  <tbody>\n",
       "    <tr>\n",
       "      <th>NA Bird</th>\n",
       "      <td>47</td>\n",
       "      <td>11</td>\n",
       "    </tr>\n",
       "    <tr>\n",
       "      <th>NA Person</th>\n",
       "      <td>1</td>\n",
       "      <td>42</td>\n",
       "    </tr>\n",
       "  </tbody>\n",
       "</table>\n",
       "</div>"
      ],
      "text/plain": [
       "           True Bird  True Person\n",
       "NA Bird           47           11\n",
       "NA Person          1           42"
      ]
     },
     "execution_count": 3,
     "metadata": {},
     "output_type": "execute_result"
    }
   ],
   "source": [
    "truth2 = [[47,11],[1,42]]\n",
    "ttable2 = pd.DataFrame(truth2, columns=['True Bird', 'True Person'], index=['NA Bird', 'NA Person'])\n",
    "ttable2"
   ]
  },
  {
   "cell_type": "markdown",
   "metadata": {},
   "source": [
    "The above two truth tables display two different algorithms' results for a computerized categorization of bird or person. The first hypothetically applies a neural network NN, and the second algorithm uses some new algorithm NA. The cells True Bird/NN Bird and True Person/NN Person are those correctly sorted by the algorithm. The opposing diagonal are incorrect sorts, where the algorithm incorrectly identifed a bird as a person and a person as a bird.\n",
    "\n",
    "For the proposed purpose of using either the NN or NA algorithms in an aviary zoo, the ratio of correctly sorted birds and people is relevant. In this specific context, even though either error is able to occur, miscategorizing a person as a bird is the favorable error, meaning it has a less drastic consequence if the algorithm makes this error. We do not want birds to escape (Bird misrecognized as person: True bird/NN or NA person) but a person being held up for a few seconds is fine (Human misrecognized as bird, who: True person NN/ or NA bird)."
   ]
  },
  {
   "cell_type": "code",
   "execution_count": 4,
   "metadata": {},
   "outputs": [
    {
     "name": "stdout",
     "output_type": "stream",
     "text": [
      "Percent miscategorized, NN : 8.00\n"
     ]
    }
   ],
   "source": [
    "# mistake percentage\n",
    "totNN = sum(truth1[0]+truth1[1])\n",
    "NN_mistake = (((truth1[0][1]) + (truth1[1][0])) / totNN) * 100\n",
    "print(\"Percent miscategorized, NN : \" + str(\"{0:.2f}\".format(NN_mistake)))"
   ]
  },
  {
   "cell_type": "code",
   "execution_count": 5,
   "metadata": {},
   "outputs": [
    {
     "name": "stdout",
     "output_type": "stream",
     "text": [
      "Percent miscategorized, NA : 11.88\n"
     ]
    }
   ],
   "source": [
    "totNA = sum(truth2[0]+truth2[1])\n",
    "NA_mistake = (((truth2[0][1]) + (truth2[1][0])) / totNA) * 100\n",
    "print(\"Percent miscategorized, NA : \" + str(\"{0:.2f}\".format(NA_mistake)))"
   ]
  },
  {
   "cell_type": "markdown",
   "metadata": {},
   "source": [
    "These simple calculations display the percentage of totally incorrect categorizations by both the neural network and new algorithm. This includes both incorrectly identifying a bird as a person, and a person as a bird. We can see that the neural network algorithm (the first truth table) has an overall less percentage of wrong categorizations. 8 percent of the identifications from this algorithm are wrong, whereas 11.88 percent of the new algorithm's identifications are wrong.\n",
    "\n",
    "Therefore, the NN neural network makes the fewest mistakes, and the NA new algorithm makes more."
   ]
  },
  {
   "cell_type": "code",
   "execution_count": 6,
   "metadata": {},
   "outputs": [
    {
     "name": "stdout",
     "output_type": "stream",
     "text": [
      "Percent of birds falsely identified, NN : 3.00\n",
      "Percent of birds falsely identified, NA: 0.99\n"
     ]
    }
   ],
   "source": [
    "# bird mistaken as person percentage\n",
    "birdNN =  ((truth1[1][0]) / totNN) * 100\n",
    "print(\"Percent of birds falsely identified, NN : \" + str(\"{0:.2f}\".format(birdNN)))\n",
    "\n",
    "birdNA = ((truth2[1][0]) / totNA) * 100\n",
    "print(\"Percent of birds falsely identified, NA: \" + str(\"{0:.2f}\".format(birdNA)))"
   ]
  },
  {
   "cell_type": "markdown",
   "metadata": {},
   "source": [
    "Even though the new algorithm NA has more overall mistakes, the majority of the mistakes made are people misidentified as birds, which is the better option of the two possible mistakes. Since the NA has a smaller percentage of mistaking bird as people, then new algorithm is the better option for this specific scenario for the zoo."
   ]
  },
  {
   "cell_type": "markdown",
   "metadata": {},
   "source": [
    "In the scenario that during the pandemic, the only person visiting the aviary zoo is the zoo keeper, and the 52% of photos from the aviary door being people drops to 1%, the truth tables for each algorithm appear as follows:"
   ]
  },
  {
   "cell_type": "code",
   "execution_count": 7,
   "metadata": {},
   "outputs": [
    {
     "data": {
      "text/html": [
       "<div>\n",
       "<style scoped>\n",
       "    .dataframe tbody tr th:only-of-type {\n",
       "        vertical-align: middle;\n",
       "    }\n",
       "\n",
       "    .dataframe tbody tr th {\n",
       "        vertical-align: top;\n",
       "    }\n",
       "\n",
       "    .dataframe thead th {\n",
       "        text-align: right;\n",
       "    }\n",
       "</style>\n",
       "<table border=\"1\" class=\"dataframe\">\n",
       "  <thead>\n",
       "    <tr style=\"text-align: right;\">\n",
       "      <th></th>\n",
       "      <th>True Bird</th>\n",
       "      <th>True Person</th>\n",
       "    </tr>\n",
       "  </thead>\n",
       "  <tbody>\n",
       "    <tr>\n",
       "      <th>NN Bird</th>\n",
       "      <td>96</td>\n",
       "      <td>0</td>\n",
       "    </tr>\n",
       "    <tr>\n",
       "      <th>NN Person</th>\n",
       "      <td>3</td>\n",
       "      <td>1</td>\n",
       "    </tr>\n",
       "  </tbody>\n",
       "</table>\n",
       "</div>"
      ],
      "text/plain": [
       "           True Bird  True Person\n",
       "NN Bird           96            0\n",
       "NN Person          3            1"
      ]
     },
     "execution_count": 7,
     "metadata": {},
     "output_type": "execute_result"
    }
   ],
   "source": [
    "# if 1% of photos taken are only people (1 out of 100 photos)\n",
    "newtruth1 = [[96,0],[3,1]]\n",
    "newttable1 = pd.DataFrame(newtruth1, columns=['True Bird', 'True Person'], index=['NN Bird', 'NN Person'])\n",
    "newttable1"
   ]
  },
  {
   "cell_type": "code",
   "execution_count": 8,
   "metadata": {},
   "outputs": [
    {
     "data": {
      "text/html": [
       "<div>\n",
       "<style scoped>\n",
       "    .dataframe tbody tr th:only-of-type {\n",
       "        vertical-align: middle;\n",
       "    }\n",
       "\n",
       "    .dataframe tbody tr th {\n",
       "        vertical-align: top;\n",
       "    }\n",
       "\n",
       "    .dataframe thead th {\n",
       "        text-align: right;\n",
       "    }\n",
       "</style>\n",
       "<table border=\"1\" class=\"dataframe\">\n",
       "  <thead>\n",
       "    <tr style=\"text-align: right;\">\n",
       "      <th></th>\n",
       "      <th>True Bird</th>\n",
       "      <th>True Person</th>\n",
       "    </tr>\n",
       "  </thead>\n",
       "  <tbody>\n",
       "    <tr>\n",
       "      <th>NN Bird</th>\n",
       "      <td>98</td>\n",
       "      <td>0</td>\n",
       "    </tr>\n",
       "    <tr>\n",
       "      <th>NN Person</th>\n",
       "      <td>1</td>\n",
       "      <td>1</td>\n",
       "    </tr>\n",
       "  </tbody>\n",
       "</table>\n",
       "</div>"
      ],
      "text/plain": [
       "           True Bird  True Person\n",
       "NN Bird           98            0\n",
       "NN Person          1            1"
      ]
     },
     "execution_count": 8,
     "metadata": {},
     "output_type": "execute_result"
    }
   ],
   "source": [
    "newtruth2 = [[98,0],[1,1]]\n",
    "newttable2 = pd.DataFrame(newtruth2, columns=['True Bird', 'True Person'], index=['NN Bird', 'NN Person'])\n",
    "newttable2"
   ]
  },
  {
   "cell_type": "markdown",
   "metadata": {},
   "source": [
    "If only 1% of the photos are now of people (just the zoo keeper) and this includes both true people and mistakenly identified birds as people, then about 1 out of 100 photos will be be in the lower right cell for both truth tables. Since the amount of photos of people at the door has dropped to be very small, the mistaken number of people as birds is roughly 0 since non-integer identifications here would not make sense. Then, the 1 out of 100 photos being of a person is most likely to be a true person identified as a person by the algorithm. \n",
    "\n",
    "(If non-integer numbers were included, this would be split: 0.1 true person/NN bird to 0.9 true person/NN person; and 0.25 true person/NA bird to 0.75 true person/NA person.)\n",
    "\n",
    "This leaves 99 percent, or 99 out of 100 photos to be of birds, both true birds and birds misidentified as people. Assuming the accuracy of either algorithm has not changed, the percentage of misidentified birds as people would be held constant between the old and new truth tables. Finally, true identified birds holds the majority of the percentage of both truth tables, since most of the photos will be taken of birds in this time."
   ]
  },
  {
   "cell_type": "markdown",
   "metadata": {},
   "source": [
    "## Analytic PDFs"
   ]
  },
  {
   "cell_type": "markdown",
   "metadata": {},
   "source": [
    "**What is the pdf of the sum of two identical exponential distributions?**"
   ]
  },
  {
   "cell_type": "markdown",
   "metadata": {},
   "source": [
    "To find out the analytic PDF of two identifcal exponential distributions using internet resources, I first start by looking up the based exponential distribution:\n",
    "\n",
    "https://en.wikipedia.org/wiki/Exponential_distribution\n",
    "\n",
    "This Wiki page describes the PDf of the exponential distribution. It has a parameter $\\lambda$, which is a number greater than 0, where the shape of the distribution as well as statistics such as mean, median, variance, etc. are determined by this lambda value. When we read through the related distributions section, we find there is a long list of related distributions if:\n",
    "\n",
    "$X\\sim Exp(\\lambda)$ and $X_i \\sim Exp(\\lambda_i)$\n",
    "\n",
    "This is saying we have two exponential distributions, but with different $\\lambda$ values. Within this list is the case if $\\lambda_i = \\lambda$, which is the case we are looking for, where the two exponential distributions are identical. This leads us to a distribution called the Erlang distribution:\n",
    "\n",
    "https://en.wikipedia.org/wiki/Erlang_distribution\n",
    "\n",
    "The Erlang distribution has a PDF shape determined by two parameters, *k* (how many exponential distributions we are summing) and $\\mu$, the reciprocal of $\\lambda$, which we know is an equivalent value between the two added exponential distributions.\n",
    "\n",
    "Therefore, the PDF of the sum of two identical distributions is the Erlang distribution for ($k=2, \\lambda$).\n",
    "\n",
    "This is also equivalent to a Gamma distribution:\n",
    "\n",
    "https://en.wikipedia.org/wiki/Gamma_distribution\n",
    "\n",
    "for values ($k=2, 1/\\lambda$)."
   ]
  },
  {
   "cell_type": "markdown",
   "metadata": {},
   "source": [
    "**What is the pdf of the ratio of two zero-mean unity variance normal distributions  $X_1/X_2$?**\n",
    "\n",
    "A zero mean unity variance normal distribution is a Gaussian centered around x = 0 with a variance of $\\sigma^2 = 1$, which means it also has a standard deviation of $\\sigma = 1$ as well. The Wiki page for Normal distributions:\n",
    "\n",
    "https://en.wikipedia.org/wiki/Normal_distribution#Related_distributions\n",
    "\n",
    "discusses related distributions to the Gaussian. Upon reading, we find a paragraph on the ratio of two Gaussians if $X_1 , X_2$ are two independent standard normal random variables with mean=0 and variance=1. This leads us to the Cauchy distribution:\n",
    "\n",
    "https://en.wikipedia.org/wiki/Cauchy_distribution\n",
    "\n",
    "which is defined on Wiki as the ratio of two independent normal distributions with a mean of 0."
   ]
  },
  {
   "cell_type": "markdown",
   "metadata": {},
   "source": [
    "**So far we have looked at 1D probability distributions, but it is possible to have a multi-dimensional vector distribution. A simple first introduction is the 2D Guassian; it looks like a smeared spot. Mathematically this is given by  $X \\hat{i}+Y \\hat{j}$  where both  X  and  Y  are drawn from 1D Gaussian distributions. If I measure the amplitude of this vector, what is its pdf?**\n",
    "\n",
    "The amplitude of a vector is given by:\n",
    "\n",
    "$\\lvert V \\rvert = \\sqrt{(x_2 - x_1)^2 + (y_2 - y_1)^2}$\n",
    "\n",
    "The Wiki page for a multivariable normal distribution:\n",
    "\n",
    "https://en.wikipedia.org/wiki/Multivariate_normal_distribution,\n",
    "\n",
    "discusses that \"the PDF of the pdf of the 2-norm (or Euclidean norm) of a multivariate normally distributed vector (centered at zero)\" follows a Chi distribution. Therefore, when taking the amplitude of the normal distributions' vectors with a mean of 0, the corresponding PDF is a Chi distribution.\n",
    "\n",
    "https://en.wikipedia.org/wiki/Chi_distribution"
   ]
  },
  {
   "cell_type": "code",
   "execution_count": null,
   "metadata": {},
   "outputs": [],
   "source": []
  }
 ],
 "metadata": {
  "kernelspec": {
   "display_name": "Python 3",
   "language": "python",
   "name": "python3"
  },
  "language_info": {
   "codemirror_mode": {
    "name": "ipython",
    "version": 3
   },
   "file_extension": ".py",
   "mimetype": "text/x-python",
   "name": "python",
   "nbconvert_exporter": "python",
   "pygments_lexer": "ipython3",
   "version": "3.7.4"
  }
 },
 "nbformat": 4,
 "nbformat_minor": 4
}
